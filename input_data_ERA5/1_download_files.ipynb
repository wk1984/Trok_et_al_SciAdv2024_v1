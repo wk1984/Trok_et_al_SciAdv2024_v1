{
 "cells": [
  {
   "cell_type": "markdown",
   "id": "d665337d-7473-4def-806e-63fa1824d2a4",
   "metadata": {},
   "source": [
    "# Check if all necessary ERA5 data files exist in the input_data_ERA5 directory"
   ]
  },
  {
   "cell_type": "code",
   "execution_count": 1,
   "id": "5ae6c457-d707-42c8-b1e4-deb03f482a4b",
   "metadata": {},
   "outputs": [
    {
     "name": "stdout",
     "output_type": "stream",
     "text": [
      "['pacific_northwest']\n"
     ]
    }
   ],
   "source": [
    "proj_dir='/home/' # edit this line\n",
    "\n",
    "import cdsapi\n",
    "import os\n",
    "import itertools\n",
    "import json\n",
    "import multiprocessing as mp\n",
    "import sys\n",
    "sys.path.append(proj_dir)\n",
    "from project_fxns import load_region\n",
    "import importlib\n",
    "importlib.reload(load_region)\n",
    "\n",
    "region_str_tpl = ['southcentral_north_america', 'southern_europe', 'western_russia', 'western_india', 'pacific_northwest']\n",
    "variables = [\"volumetric_soil_water_layer_1\", \"2m_temperature\", \"2m_temperature\", \"geopotential\", \"geopotential\", \"geopotential\", \"mean_sea_level_pressure\"]\n",
    "var_abbrev = [\"swvl1\", \"tmean\", \"t2m\", \"z500\", \"z700\", \"z250\", \"psl\"]\n",
    "\n",
    "## To request pacific northwest precipitation data, run this script again with the following uncommented ##\n",
    "region_str_tpl = ['pacific_northwest']\n",
    "# variables = [\"geopotential\"]\n",
    "# var_abbrev = [\"z250\"]\n",
    "\n",
    "######### Define Dataset and Product Type ##########\n",
    "global era5_land_dataset\n",
    "era5_land_dataset = \"reanalysis-era5-land\"\n",
    "\n",
    "global era5_psl_dataset\n",
    "era5_psl_dataset = \"reanalysis-era5-single-levels\"\n",
    "global era5_psl_product_type\n",
    "era5_psl_product_type = \"reanalysis\"\n",
    "\n",
    "global era5_tmean_dataset\n",
    "era5_tmean_dataset = \"reanalysis-era5-single-levels-monthly-means\"\n",
    "global era5_tmean_product_type\n",
    "era5_tmean_product_type = \"monthly_averaged_reanalysis\"\n",
    "\n",
    "global era5_z_dataset\n",
    "era5_z_dataset = \"reanalysis-era5-pressure-levels\"\n",
    "global era5_z_product_type\n",
    "era5_z_product_type = \"reanalysis\"\n",
    "\n",
    "print(region_str_tpl)"
   ]
  },
  {
   "cell_type": "code",
   "execution_count": 2,
   "id": "bc192a45",
   "metadata": {},
   "outputs": [],
   "source": [
    "def era5_land_download(\n",
    "    dataset,\n",
    "    variables,\n",
    "    years,\n",
    "    months,\n",
    "    days,\n",
    "    # times='00:00',\n",
    "    format=\"netcdf\",\n",
    "    latmin=0,\n",
    "    latmax=180,\n",
    "    lonmin=-180,\n",
    "    lonmax=180,\n",
    "    outname='download.netcdf.zip'\n",
    "):\n",
    "\n",
    "    request = {\"variable\": variables,\n",
    "               \"year\": years,\n",
    "               \"month\": months,\n",
    "               \"day\": days,\n",
    "               \"time\": [\n",
    "                   \"00:00\", \"01:00\", \"02:00\",\n",
    "                            \"03:00\", \"04:00\", \"05:00\",\n",
    "                            \"06:00\", \"07:00\", \"08:00\",\n",
    "                            \"09:00\", \"10:00\", \"11:00\",\n",
    "                            \"12:00\", \"13:00\", \"14:00\",\n",
    "                            \"15:00\", \"16:00\", \"17:00\",\n",
    "                            \"18:00\", \"19:00\", \"20:00\",\n",
    "                            \"21:00\", \"22:00\", \"23:00\",\n",
    "\n",
    "               ],\n",
    "               \"data_format\": format,\n",
    "               \"area\": [latmax, lonmin, latmin, lonmax],\n",
    "               \"download_format\": \"zip\",\n",
    "               }\n",
    "    \n",
    "    client = cdsapi.Client()\n",
    "    client.retrieve(dataset, request, outname)\n",
    "    \n",
    "    return"
   ]
  },
  {
   "cell_type": "code",
   "execution_count": 3,
   "id": "73dc1ce5-7e3d-442c-b0a1-d89fd469c079",
   "metadata": {},
   "outputs": [],
   "source": [
    "def era5_tmean_download(\n",
    "    dataset,\n",
    "    product_type,\n",
    "    variables,\n",
    "    years,\n",
    "    months,\n",
    "    format = \"netcdf\",\n",
    "    outname = 'download.nc'\n",
    "):\n",
    "\n",
    "    request = {\n",
    "                        \"product_type\": product_type,\n",
    "                        \"variable\": variables,\n",
    "                        \"year\": years,\n",
    "                        \"month\": months,\n",
    "                        \"time\": [\n",
    "                            \"00:00\"\n",
    "                            ],\n",
    "                        \"data_format\": format,\n",
    "                        # \"download_format\": \"zip\",\n",
    "                    }\n",
    "      \n",
    "    client = cdsapi.Client()\n",
    "    client.retrieve(dataset, request, outname)\n",
    "    \n",
    "    return\n"
   ]
  },
  {
   "cell_type": "code",
   "execution_count": 4,
   "id": "447d751f-a99c-4e64-a3ef-3f7f7c2473e3",
   "metadata": {},
   "outputs": [],
   "source": [
    "def era5_psl_download(\n",
    "    dataset,\n",
    "    product_type,\n",
    "    variables,\n",
    "    years,\n",
    "    months,\n",
    "    days,\n",
    "    # times = '00:00',\n",
    "    format = \"netcdf\",\n",
    "    latmin = 0,\n",
    "    latmax = 180,\n",
    "    lonmin = -180,\n",
    "    lonmax = 180,\n",
    "    outname = 'download.nc'\n",
    "):\n",
    "\n",
    "    request = {\n",
    "                        \"product_type\": product_type,\n",
    "                        \"variable\": variables,\n",
    "                        \"year\": years,\n",
    "                        \"month\": months,\n",
    "                        \"day\": days,\n",
    "                        \"time\": [\n",
    "                            \"00:00\", \"01:00\", \"02:00\",\n",
    "                            \"03:00\", \"04:00\", \"05:00\",\n",
    "                            \"06:00\", \"07:00\", \"08:00\",\n",
    "                            \"09:00\", \"10:00\", \"11:00\",\n",
    "                            \"12:00\", \"13:00\", \"14:00\",\n",
    "                            \"15:00\", \"16:00\", \"17:00\",\n",
    "                            \"18:00\", \"19:00\", \"20:00\",\n",
    "                            \"21:00\", \"22:00\", \"23:00\",\n",
    "\n",
    "                            ],\n",
    "                        \"data_format\": format,\n",
    "                        \"area\": [latmax,lonmin,latmin,lonmax],\n",
    "                    }\n",
    "      \n",
    "    client = cdsapi.Client()\n",
    "    client.retrieve(dataset, request, outname)\n",
    "    \n",
    "    return\n"
   ]
  },
  {
   "cell_type": "code",
   "execution_count": 5,
   "id": "81d23f45-dafe-4aeb-82fe-052b178bceab",
   "metadata": {},
   "outputs": [],
   "source": [
    "def era5_z_download(\n",
    "    dataset,\n",
    "    product_type,\n",
    "    pressure_level,\n",
    "    variables,\n",
    "    years,\n",
    "    months,\n",
    "    days,\n",
    "    # times = '00:00',\n",
    "    format = \"netcdf\",\n",
    "    latmin = 0,\n",
    "    latmax = 180,\n",
    "    lonmin = -180,\n",
    "    lonmax = 180,\n",
    "    outname = 'download.nc'\n",
    "):\n",
    "\n",
    "    request = {\n",
    "                        \"product_type\": product_type,\n",
    "                        \"pressure_level\": pressure_level,\n",
    "                        \"variable\": variables,\n",
    "                        \"year\": years,\n",
    "                        \"month\": months,\n",
    "                        \"day\": days,\n",
    "                        \"time\": [\n",
    "                            \"00:00\", \"01:00\", \"02:00\",\n",
    "                            \"03:00\", \"04:00\", \"05:00\",\n",
    "                            \"06:00\", \"07:00\", \"08:00\",\n",
    "                            \"09:00\", \"10:00\", \"11:00\",\n",
    "                            \"12:00\", \"13:00\", \"14:00\",\n",
    "                            \"15:00\", \"16:00\", \"17:00\",\n",
    "                            \"18:00\", \"19:00\", \"20:00\",\n",
    "                            \"21:00\", \"22:00\", \"23:00\",\n",
    "\n",
    "                            ],\n",
    "                        \"data_format\": format,\n",
    "                        \"area\": [latmax,lonmin,latmin,lonmax],\n",
    "                    }\n",
    "      \n",
    "    client = cdsapi.Client()\n",
    "    client.retrieve(dataset, request, outname)\n",
    "    \n",
    "    return"
   ]
  },
  {
   "cell_type": "markdown",
   "id": "3694615d-1958-4cd5-b126-8d7d9704df0a",
   "metadata": {},
   "source": [
    "## List all missing input data files"
   ]
  },
  {
   "cell_type": "code",
   "execution_count": 6,
   "id": "f73ce0b3-fb86-4d45-af1d-3066a14f8c23",
   "metadata": {
    "scrolled": true,
    "tags": []
   },
   "outputs": [
    {
     "name": "stdout",
     "output_type": "stream",
     "text": [
      "pacific_northwest\n",
      "lat: 41 51\n",
      "lon: 235 245\n",
      "lat: 41 51\n",
      "lon: -125 -115\n",
      "LAND\n",
      "volumetric_soil_water_layer_1 swvl1\n",
      "/home/input_data_ERA5/pacific_northwest/hourly/swvl1/pacific_northwest_swvl1_hourly_2023_01.netcdf.zip\n",
      "/home/input_data_ERA5/pacific_northwest/hourly/swvl1/pacific_northwest_swvl1_hourly_2023_01.netcdf.zip does NOT exist... requesting now\n"
     ]
    },
    {
     "name": "stderr",
     "output_type": "stream",
     "text": [
      "2024-12-08 13:31:25,517 INFO [2024-09-28T00:00:00] **Welcome to the New Climate Data Store (CDS)!** This new system is in its early days of full operations and still undergoing enhancements and fine tuning. Some disruptions are to be expected. Your \n",
      "[feedback](https://jira.ecmwf.int/plugins/servlet/desk/portal/1/create/202) is key to improve the user experience on the new CDS for the benefit of everyone. Thank you.\n",
      "2024-12-08 13:31:25,522 INFO [2024-09-26T00:00:00] Watch our [Forum](https://forum.ecmwf.int/) for Announcements, news and other discussed topics.\n",
      "2024-12-08 13:31:25,523 INFO [2024-09-16T00:00:00] Remember that you need to have an ECMWF account to use the new CDS. **Your old CDS credentials will not work in new CDS!**\n",
      "2024-12-08 13:31:25,527 WARNING [2024-06-16T00:00:00] CDS API syntax is changed and some keys or parameter names may have also changed. To avoid requests failing, please use the \"Show API request code\" tool on the dataset Download Form to check you are using the correct syntax for your API request.\n",
      "2024-12-08 13:31:26,412 INFO Request ID is 767cdf92-6d45-4ca3-9798-60c384de92ae\n",
      "2024-12-08 13:31:26,829 INFO status has been updated to accepted\n",
      "2024-12-08 13:31:36,657 INFO status has been updated to running\n",
      "2024-12-08 13:36:02,793 INFO status has been updated to successful\n"
     ]
    },
    {
     "data": {
      "application/json": {
       "ascii": false,
       "bar_format": null,
       "colour": null,
       "elapsed": 0.006304502487182617,
       "initial": 0,
       "n": 0,
       "ncols": null,
       "nrows": 51,
       "postfix": null,
       "prefix": "8295c43f221e90e097685ab3838475dd.zip",
       "rate": null,
       "total": 12210541,
       "unit": "B",
       "unit_divisor": 1024,
       "unit_scale": true
      },
      "application/vnd.jupyter.widget-view+json": {
       "model_id": "49b6836c7996438baaf8788be0fdab05",
       "version_major": 2,
       "version_minor": 0
      },
      "text/plain": [
       "8295c43f221e90e097685ab3838475dd.zip:   0%|          | 0.00/11.6M [00:00<?, ?B/s]"
      ]
     },
     "metadata": {},
     "output_type": "display_data"
    },
    {
     "name": "stdout",
     "output_type": "stream",
     "text": [
      "/home/input_data_ERA5/pacific_northwest/hourly/swvl1/pacific_northwest_swvl1_hourly_2023_02.netcdf.zip\n",
      "/home/input_data_ERA5/pacific_northwest/hourly/swvl1/pacific_northwest_swvl1_hourly_2023_02.netcdf.zip does NOT exist... requesting now\n"
     ]
    },
    {
     "name": "stderr",
     "output_type": "stream",
     "text": [
      "2024-12-08 13:37:23,382 INFO [2024-09-28T00:00:00] **Welcome to the New Climate Data Store (CDS)!** This new system is in its early days of full operations and still undergoing enhancements and fine tuning. Some disruptions are to be expected. Your \n",
      "[feedback](https://jira.ecmwf.int/plugins/servlet/desk/portal/1/create/202) is key to improve the user experience on the new CDS for the benefit of everyone. Thank you.\n",
      "2024-12-08 13:37:23,385 INFO [2024-09-26T00:00:00] Watch our [Forum](https://forum.ecmwf.int/) for Announcements, news and other discussed topics.\n",
      "2024-12-08 13:37:23,388 INFO [2024-09-16T00:00:00] Remember that you need to have an ECMWF account to use the new CDS. **Your old CDS credentials will not work in new CDS!**\n",
      "2024-12-08 13:37:23,390 WARNING [2024-06-16T00:00:00] CDS API syntax is changed and some keys or parameter names may have also changed. To avoid requests failing, please use the \"Show API request code\" tool on the dataset Download Form to check you are using the correct syntax for your API request.\n",
      "2024-12-08 13:37:25,122 INFO Request ID is 197dff46-61be-444c-9f32-1130c1de74c9\n",
      "2024-12-08 13:37:26,865 INFO status has been updated to accepted\n",
      "2024-12-08 13:37:33,008 INFO status has been updated to running\n",
      "2024-12-08 13:39:26,882 INFO status has been updated to successful\n"
     ]
    },
    {
     "data": {
      "application/json": {
       "ascii": false,
       "bar_format": null,
       "colour": null,
       "elapsed": 0.01142573356628418,
       "initial": 0,
       "n": 0,
       "ncols": null,
       "nrows": 51,
       "postfix": null,
       "prefix": "ce343a3be75bb9052190a9e0b5a21be0.zip",
       "rate": null,
       "total": 9160869,
       "unit": "B",
       "unit_divisor": 1024,
       "unit_scale": true
      },
      "application/vnd.jupyter.widget-view+json": {
       "model_id": "1ef7adc57e1044e0abf2256bab5acf99",
       "version_major": 2,
       "version_minor": 0
      },
      "text/plain": [
       "ce343a3be75bb9052190a9e0b5a21be0.zip:   0%|          | 0.00/8.74M [00:00<?, ?B/s]"
      ]
     },
     "metadata": {},
     "output_type": "display_data"
    },
    {
     "name": "stdout",
     "output_type": "stream",
     "text": [
      "/home/input_data_ERA5/pacific_northwest/hourly/swvl1/pacific_northwest_swvl1_hourly_2023_03.netcdf.zip\n",
      "/home/input_data_ERA5/pacific_northwest/hourly/swvl1/pacific_northwest_swvl1_hourly_2023_03.netcdf.zip does NOT exist... requesting now\n"
     ]
    },
    {
     "name": "stderr",
     "output_type": "stream",
     "text": [
      "2024-12-08 13:40:02,412 INFO [2024-09-28T00:00:00] **Welcome to the New Climate Data Store (CDS)!** This new system is in its early days of full operations and still undergoing enhancements and fine tuning. Some disruptions are to be expected. Your \n",
      "[feedback](https://jira.ecmwf.int/plugins/servlet/desk/portal/1/create/202) is key to improve the user experience on the new CDS for the benefit of everyone. Thank you.\n",
      "2024-12-08 13:40:02,415 INFO [2024-09-26T00:00:00] Watch our [Forum](https://forum.ecmwf.int/) for Announcements, news and other discussed topics.\n",
      "2024-12-08 13:40:02,417 INFO [2024-09-16T00:00:00] Remember that you need to have an ECMWF account to use the new CDS. **Your old CDS credentials will not work in new CDS!**\n",
      "2024-12-08 13:40:02,420 WARNING [2024-06-16T00:00:00] CDS API syntax is changed and some keys or parameter names may have also changed. To avoid requests failing, please use the \"Show API request code\" tool on the dataset Download Form to check you are using the correct syntax for your API request.\n",
      "2024-12-08 13:40:03,344 INFO Request ID is 3fc96907-f8b5-4375-8fbc-64f56c3f9e89\n",
      "2024-12-08 13:40:03,897 INFO status has been updated to accepted\n",
      "2024-12-08 13:40:11,426 INFO status has been updated to running\n",
      "2024-12-08 13:43:03,783 INFO status has been updated to successful\n"
     ]
    },
    {
     "data": {
      "application/json": {
       "ascii": false,
       "bar_format": null,
       "colour": null,
       "elapsed": 0.011389732360839844,
       "initial": 0,
       "n": 0,
       "ncols": null,
       "nrows": 51,
       "postfix": null,
       "prefix": "3ff29a6b909810d6c84302962c73e62d.zip",
       "rate": null,
       "total": 11346550,
       "unit": "B",
       "unit_divisor": 1024,
       "unit_scale": true
      },
      "application/vnd.jupyter.widget-view+json": {
       "model_id": "21b1f0511bab4b459a22243945ba2ea0",
       "version_major": 2,
       "version_minor": 0
      },
      "text/plain": [
       "3ff29a6b909810d6c84302962c73e62d.zip:   0%|          | 0.00/10.8M [00:00<?, ?B/s]"
      ]
     },
     "metadata": {},
     "output_type": "display_data"
    },
    {
     "name": "stdout",
     "output_type": "stream",
     "text": [
      "/home/input_data_ERA5/pacific_northwest/hourly/swvl1/pacific_northwest_swvl1_hourly_2023_04.netcdf.zip\n",
      "/home/input_data_ERA5/pacific_northwest/hourly/swvl1/pacific_northwest_swvl1_hourly_2023_04.netcdf.zip does NOT exist... requesting now\n"
     ]
    },
    {
     "name": "stderr",
     "output_type": "stream",
     "text": [
      "2024-12-08 13:43:31,532 INFO [2024-09-28T00:00:00] **Welcome to the New Climate Data Store (CDS)!** This new system is in its early days of full operations and still undergoing enhancements and fine tuning. Some disruptions are to be expected. Your \n",
      "[feedback](https://jira.ecmwf.int/plugins/servlet/desk/portal/1/create/202) is key to improve the user experience on the new CDS for the benefit of everyone. Thank you.\n",
      "2024-12-08 13:43:31,534 INFO [2024-09-26T00:00:00] Watch our [Forum](https://forum.ecmwf.int/) for Announcements, news and other discussed topics.\n",
      "2024-12-08 13:43:31,536 INFO [2024-09-16T00:00:00] Remember that you need to have an ECMWF account to use the new CDS. **Your old CDS credentials will not work in new CDS!**\n",
      "2024-12-08 13:43:31,539 WARNING [2024-06-16T00:00:00] CDS API syntax is changed and some keys or parameter names may have also changed. To avoid requests failing, please use the \"Show API request code\" tool on the dataset Download Form to check you are using the correct syntax for your API request.\n",
      "2024-12-08 13:43:32,313 INFO Request ID is 4f487f42-afc7-4cee-80d8-826dda2ee1e6\n",
      "2024-12-08 13:43:32,761 INFO status has been updated to accepted\n",
      "2024-12-08 13:43:38,815 INFO status has been updated to running\n",
      "2024-12-08 13:46:29,505 INFO status has been updated to successful\n"
     ]
    },
    {
     "data": {
      "application/json": {
       "ascii": false,
       "bar_format": null,
       "colour": null,
       "elapsed": 0.012154340744018555,
       "initial": 0,
       "n": 0,
       "ncols": null,
       "nrows": 51,
       "postfix": null,
       "prefix": "7921ad5f9e92c806e20262d572610b24.zip",
       "rate": null,
       "total": 12502762,
       "unit": "B",
       "unit_divisor": 1024,
       "unit_scale": true
      },
      "application/vnd.jupyter.widget-view+json": {
       "model_id": "88db0eb5dc334d5b905e2352841476f8",
       "version_major": 2,
       "version_minor": 0
      },
      "text/plain": [
       "7921ad5f9e92c806e20262d572610b24.zip:   0%|          | 0.00/11.9M [00:00<?, ?B/s]"
      ]
     },
     "metadata": {},
     "output_type": "display_data"
    },
    {
     "name": "stdout",
     "output_type": "stream",
     "text": [
      "/home/input_data_ERA5/pacific_northwest/hourly/swvl1/pacific_northwest_swvl1_hourly_2023_05.netcdf.zip\n",
      "/home/input_data_ERA5/pacific_northwest/hourly/swvl1/pacific_northwest_swvl1_hourly_2023_05.netcdf.zip does NOT exist... requesting now\n"
     ]
    },
    {
     "name": "stderr",
     "output_type": "stream",
     "text": [
      "2024-12-08 13:46:49,262 INFO [2024-09-28T00:00:00] **Welcome to the New Climate Data Store (CDS)!** This new system is in its early days of full operations and still undergoing enhancements and fine tuning. Some disruptions are to be expected. Your \n",
      "[feedback](https://jira.ecmwf.int/plugins/servlet/desk/portal/1/create/202) is key to improve the user experience on the new CDS for the benefit of everyone. Thank you.\n",
      "2024-12-08 13:46:49,265 INFO [2024-09-26T00:00:00] Watch our [Forum](https://forum.ecmwf.int/) for Announcements, news and other discussed topics.\n",
      "2024-12-08 13:46:49,267 INFO [2024-09-16T00:00:00] Remember that you need to have an ECMWF account to use the new CDS. **Your old CDS credentials will not work in new CDS!**\n",
      "2024-12-08 13:46:49,269 WARNING [2024-06-16T00:00:00] CDS API syntax is changed and some keys or parameter names may have also changed. To avoid requests failing, please use the \"Show API request code\" tool on the dataset Download Form to check you are using the correct syntax for your API request.\n",
      "2024-12-08 13:46:49,998 INFO Request ID is ee3357b4-f219-4316-9490-084730e23821\n",
      "2024-12-08 13:46:50,394 INFO status has been updated to accepted\n",
      "2024-12-08 13:46:56,129 INFO status has been updated to running\n",
      "2024-12-08 13:49:46,287 INFO status has been updated to successful\n"
     ]
    },
    {
     "data": {
      "application/json": {
       "ascii": false,
       "bar_format": null,
       "colour": null,
       "elapsed": 0.011187076568603516,
       "initial": 0,
       "n": 0,
       "ncols": null,
       "nrows": 51,
       "postfix": null,
       "prefix": "5ca0943517db5cac2d644b2f13dd27d7.zip",
       "rate": null,
       "total": 15762173,
       "unit": "B",
       "unit_divisor": 1024,
       "unit_scale": true
      },
      "application/vnd.jupyter.widget-view+json": {
       "model_id": "06823844b77a4f428a41929c3927491d",
       "version_major": 2,
       "version_minor": 0
      },
      "text/plain": [
       "5ca0943517db5cac2d644b2f13dd27d7.zip:   0%|          | 0.00/15.0M [00:00<?, ?B/s]"
      ]
     },
     "metadata": {},
     "output_type": "display_data"
    },
    {
     "name": "stdout",
     "output_type": "stream",
     "text": [
      "/home/input_data_ERA5/pacific_northwest/hourly/swvl1/pacific_northwest_swvl1_hourly_2023_06.netcdf.zip\n",
      "/home/input_data_ERA5/pacific_northwest/hourly/swvl1/pacific_northwest_swvl1_hourly_2023_06.netcdf.zip does NOT exist... requesting now\n"
     ]
    },
    {
     "name": "stderr",
     "output_type": "stream",
     "text": [
      "2024-12-08 13:50:51,600 INFO [2024-09-28T00:00:00] **Welcome to the New Climate Data Store (CDS)!** This new system is in its early days of full operations and still undergoing enhancements and fine tuning. Some disruptions are to be expected. Your \n",
      "[feedback](https://jira.ecmwf.int/plugins/servlet/desk/portal/1/create/202) is key to improve the user experience on the new CDS for the benefit of everyone. Thank you.\n",
      "2024-12-08 13:50:51,602 INFO [2024-09-26T00:00:00] Watch our [Forum](https://forum.ecmwf.int/) for Announcements, news and other discussed topics.\n",
      "2024-12-08 13:50:51,605 INFO [2024-09-16T00:00:00] Remember that you need to have an ECMWF account to use the new CDS. **Your old CDS credentials will not work in new CDS!**\n",
      "2024-12-08 13:50:51,610 WARNING [2024-06-16T00:00:00] CDS API syntax is changed and some keys or parameter names may have also changed. To avoid requests failing, please use the \"Show API request code\" tool on the dataset Download Form to check you are using the correct syntax for your API request.\n",
      "2024-12-08 13:50:52,339 INFO Request ID is b721692f-6bf4-4f43-ac9a-0ab82842f8e5\n",
      "2024-12-08 13:50:52,698 INFO status has been updated to accepted\n",
      "2024-12-08 13:50:58,300 INFO status has been updated to running\n",
      "2024-12-08 13:52:53,001 INFO status has been updated to successful\n"
     ]
    },
    {
     "data": {
      "application/json": {
       "ascii": false,
       "bar_format": null,
       "colour": null,
       "elapsed": 0.009260892868041992,
       "initial": 0,
       "n": 0,
       "ncols": null,
       "nrows": 51,
       "postfix": null,
       "prefix": "3f8ba1987951b3e2d0f9cb8ce698b88c.zip",
       "rate": null,
       "total": 13430523,
       "unit": "B",
       "unit_divisor": 1024,
       "unit_scale": true
      },
      "application/vnd.jupyter.widget-view+json": {
       "model_id": "b5b1ea9ad2c0471c9bebe754c52818b1",
       "version_major": 2,
       "version_minor": 0
      },
      "text/plain": [
       "3f8ba1987951b3e2d0f9cb8ce698b88c.zip:   0%|          | 0.00/12.8M [00:00<?, ?B/s]"
      ]
     },
     "metadata": {},
     "output_type": "display_data"
    },
    {
     "name": "stdout",
     "output_type": "stream",
     "text": [
      "/home/input_data_ERA5/pacific_northwest/hourly/swvl1/pacific_northwest_swvl1_hourly_2023_07.netcdf.zip\n",
      "/home/input_data_ERA5/pacific_northwest/hourly/swvl1/pacific_northwest_swvl1_hourly_2023_07.netcdf.zip does NOT exist... requesting now\n"
     ]
    },
    {
     "name": "stderr",
     "output_type": "stream",
     "text": [
      "2024-12-08 13:53:12,458 INFO [2024-09-28T00:00:00] **Welcome to the New Climate Data Store (CDS)!** This new system is in its early days of full operations and still undergoing enhancements and fine tuning. Some disruptions are to be expected. Your \n",
      "[feedback](https://jira.ecmwf.int/plugins/servlet/desk/portal/1/create/202) is key to improve the user experience on the new CDS for the benefit of everyone. Thank you.\n",
      "2024-12-08 13:53:12,460 INFO [2024-09-26T00:00:00] Watch our [Forum](https://forum.ecmwf.int/) for Announcements, news and other discussed topics.\n",
      "2024-12-08 13:53:12,463 INFO [2024-09-16T00:00:00] Remember that you need to have an ECMWF account to use the new CDS. **Your old CDS credentials will not work in new CDS!**\n",
      "2024-12-08 13:53:12,465 WARNING [2024-06-16T00:00:00] CDS API syntax is changed and some keys or parameter names may have also changed. To avoid requests failing, please use the \"Show API request code\" tool on the dataset Download Form to check you are using the correct syntax for your API request.\n",
      "2024-12-08 13:53:13,347 INFO Request ID is 861bf7c4-df65-455a-aaea-69b80856d4aa\n",
      "2024-12-08 13:53:13,751 INFO status has been updated to accepted\n",
      "2024-12-08 13:53:29,147 INFO status has been updated to running\n",
      "2024-12-08 13:56:10,325 INFO status has been updated to successful\n"
     ]
    },
    {
     "data": {
      "application/json": {
       "ascii": false,
       "bar_format": null,
       "colour": null,
       "elapsed": 0.014585733413696289,
       "initial": 0,
       "n": 0,
       "ncols": null,
       "nrows": 51,
       "postfix": null,
       "prefix": "f34db690eda48d8ac74e2bc298d89e6b.zip",
       "rate": null,
       "total": 13174560,
       "unit": "B",
       "unit_divisor": 1024,
       "unit_scale": true
      },
      "application/vnd.jupyter.widget-view+json": {
       "model_id": "a51e512825ae4c849ba7615653faf930",
       "version_major": 2,
       "version_minor": 0
      },
      "text/plain": [
       "f34db690eda48d8ac74e2bc298d89e6b.zip:   0%|          | 0.00/12.6M [00:00<?, ?B/s]"
      ]
     },
     "metadata": {},
     "output_type": "display_data"
    },
    {
     "name": "stdout",
     "output_type": "stream",
     "text": [
      "/home/input_data_ERA5/pacific_northwest/hourly/swvl1/pacific_northwest_swvl1_hourly_2023_08.netcdf.zip\n",
      "/home/input_data_ERA5/pacific_northwest/hourly/swvl1/pacific_northwest_swvl1_hourly_2023_08.netcdf.zip does NOT exist... requesting now\n"
     ]
    },
    {
     "name": "stderr",
     "output_type": "stream",
     "text": [
      "2024-12-08 13:56:37,871 INFO [2024-09-28T00:00:00] **Welcome to the New Climate Data Store (CDS)!** This new system is in its early days of full operations and still undergoing enhancements and fine tuning. Some disruptions are to be expected. Your \n",
      "[feedback](https://jira.ecmwf.int/plugins/servlet/desk/portal/1/create/202) is key to improve the user experience on the new CDS for the benefit of everyone. Thank you.\n",
      "2024-12-08 13:56:37,873 INFO [2024-09-26T00:00:00] Watch our [Forum](https://forum.ecmwf.int/) for Announcements, news and other discussed topics.\n",
      "2024-12-08 13:56:37,876 INFO [2024-09-16T00:00:00] Remember that you need to have an ECMWF account to use the new CDS. **Your old CDS credentials will not work in new CDS!**\n",
      "2024-12-08 13:56:37,879 WARNING [2024-06-16T00:00:00] CDS API syntax is changed and some keys or parameter names may have also changed. To avoid requests failing, please use the \"Show API request code\" tool on the dataset Download Form to check you are using the correct syntax for your API request.\n",
      "2024-12-08 13:56:38,536 INFO Request ID is 9e8df699-d171-45b9-a9ae-05075eb087d6\n",
      "2024-12-08 13:56:38,831 INFO status has been updated to accepted\n",
      "2024-12-08 13:56:44,730 INFO status has been updated to running\n",
      "2024-12-08 13:59:34,616 INFO status has been updated to successful\n"
     ]
    },
    {
     "data": {
      "application/json": {
       "ascii": false,
       "bar_format": null,
       "colour": null,
       "elapsed": 0.012068986892700195,
       "initial": 0,
       "n": 0,
       "ncols": null,
       "nrows": 51,
       "postfix": null,
       "prefix": "ff9b7922c1b0ff7504ae756023da0ba8.zip",
       "rate": null,
       "total": 11606084,
       "unit": "B",
       "unit_divisor": 1024,
       "unit_scale": true
      },
      "application/vnd.jupyter.widget-view+json": {
       "model_id": "9838d9535fc74e4f84522afe0c9f358f",
       "version_major": 2,
       "version_minor": 0
      },
      "text/plain": [
       "ff9b7922c1b0ff7504ae756023da0ba8.zip:   0%|          | 0.00/11.1M [00:00<?, ?B/s]"
      ]
     },
     "metadata": {},
     "output_type": "display_data"
    },
    {
     "name": "stdout",
     "output_type": "stream",
     "text": [
      "/home/input_data_ERA5/pacific_northwest/hourly/swvl1/pacific_northwest_swvl1_hourly_2023_09.netcdf.zip\n",
      "/home/input_data_ERA5/pacific_northwest/hourly/swvl1/pacific_northwest_swvl1_hourly_2023_09.netcdf.zip does NOT exist... requesting now\n"
     ]
    },
    {
     "name": "stderr",
     "output_type": "stream",
     "text": [
      "2024-12-08 13:59:55,236 INFO [2024-09-28T00:00:00] **Welcome to the New Climate Data Store (CDS)!** This new system is in its early days of full operations and still undergoing enhancements and fine tuning. Some disruptions are to be expected. Your \n",
      "[feedback](https://jira.ecmwf.int/plugins/servlet/desk/portal/1/create/202) is key to improve the user experience on the new CDS for the benefit of everyone. Thank you.\n",
      "2024-12-08 13:59:55,238 INFO [2024-09-26T00:00:00] Watch our [Forum](https://forum.ecmwf.int/) for Announcements, news and other discussed topics.\n",
      "2024-12-08 13:59:55,242 INFO [2024-09-16T00:00:00] Remember that you need to have an ECMWF account to use the new CDS. **Your old CDS credentials will not work in new CDS!**\n",
      "2024-12-08 13:59:55,247 WARNING [2024-06-16T00:00:00] CDS API syntax is changed and some keys or parameter names may have also changed. To avoid requests failing, please use the \"Show API request code\" tool on the dataset Download Form to check you are using the correct syntax for your API request.\n",
      "2024-12-08 13:59:55,948 INFO Request ID is e025010d-00c7-46b7-8949-aefdd1b7b53a\n",
      "2024-12-08 13:59:56,290 INFO status has been updated to accepted\n",
      "2024-12-08 14:00:06,961 INFO status has been updated to running\n",
      "2024-12-08 14:01:57,858 INFO status has been updated to successful\n"
     ]
    },
    {
     "data": {
      "application/json": {
       "ascii": false,
       "bar_format": null,
       "colour": null,
       "elapsed": 0.00815129280090332,
       "initial": 0,
       "n": 0,
       "ncols": null,
       "nrows": 51,
       "postfix": null,
       "prefix": "a021bfef22258a4456511936d0dfab0d.zip",
       "rate": null,
       "total": 12676863,
       "unit": "B",
       "unit_divisor": 1024,
       "unit_scale": true
      },
      "application/vnd.jupyter.widget-view+json": {
       "model_id": "b05fbdacd7884d76813ac98ea33b33d7",
       "version_major": 2,
       "version_minor": 0
      },
      "text/plain": [
       "a021bfef22258a4456511936d0dfab0d.zip:   0%|          | 0.00/12.1M [00:00<?, ?B/s]"
      ]
     },
     "metadata": {},
     "output_type": "display_data"
    },
    {
     "name": "stdout",
     "output_type": "stream",
     "text": [
      "/home/input_data_ERA5/pacific_northwest/hourly/swvl1/pacific_northwest_swvl1_hourly_2023_10.netcdf.zip\n",
      "/home/input_data_ERA5/pacific_northwest/hourly/swvl1/pacific_northwest_swvl1_hourly_2023_10.netcdf.zip does NOT exist... requesting now\n"
     ]
    },
    {
     "name": "stderr",
     "output_type": "stream",
     "text": [
      "2024-12-08 14:02:10,410 INFO [2024-09-28T00:00:00] **Welcome to the New Climate Data Store (CDS)!** This new system is in its early days of full operations and still undergoing enhancements and fine tuning. Some disruptions are to be expected. Your \n",
      "[feedback](https://jira.ecmwf.int/plugins/servlet/desk/portal/1/create/202) is key to improve the user experience on the new CDS for the benefit of everyone. Thank you.\n",
      "2024-12-08 14:02:10,414 INFO [2024-09-26T00:00:00] Watch our [Forum](https://forum.ecmwf.int/) for Announcements, news and other discussed topics.\n",
      "2024-12-08 14:02:10,417 INFO [2024-09-16T00:00:00] Remember that you need to have an ECMWF account to use the new CDS. **Your old CDS credentials will not work in new CDS!**\n",
      "2024-12-08 14:02:10,419 WARNING [2024-06-16T00:00:00] CDS API syntax is changed and some keys or parameter names may have also changed. To avoid requests failing, please use the \"Show API request code\" tool on the dataset Download Form to check you are using the correct syntax for your API request.\n",
      "2024-12-08 14:02:11,290 INFO Request ID is 1d891ed3-6f01-4fa9-b7bd-5c19bba8f286\n",
      "2024-12-08 14:02:11,557 INFO status has been updated to accepted\n",
      "2024-12-08 14:02:21,632 INFO status has been updated to running\n",
      "2024-12-08 14:04:09,787 INFO status has been updated to successful\n"
     ]
    },
    {
     "data": {
      "application/json": {
       "ascii": false,
       "bar_format": null,
       "colour": null,
       "elapsed": 0.011307001113891602,
       "initial": 0,
       "n": 0,
       "ncols": null,
       "nrows": 51,
       "postfix": null,
       "prefix": "bf4019383a3726b0f47eae371093adbe.zip",
       "rate": null,
       "total": 14218097,
       "unit": "B",
       "unit_divisor": 1024,
       "unit_scale": true
      },
      "application/vnd.jupyter.widget-view+json": {
       "model_id": "20a4478507244b5d87846312365b5071",
       "version_major": 2,
       "version_minor": 0
      },
      "text/plain": [
       "bf4019383a3726b0f47eae371093adbe.zip:   0%|          | 0.00/13.6M [00:00<?, ?B/s]"
      ]
     },
     "metadata": {},
     "output_type": "display_data"
    },
    {
     "name": "stdout",
     "output_type": "stream",
     "text": [
      "/home/input_data_ERA5/pacific_northwest/hourly/swvl1/pacific_northwest_swvl1_hourly_2023_11.netcdf.zip\n",
      "/home/input_data_ERA5/pacific_northwest/hourly/swvl1/pacific_northwest_swvl1_hourly_2023_11.netcdf.zip does NOT exist... requesting now\n"
     ]
    },
    {
     "name": "stderr",
     "output_type": "stream",
     "text": [
      "2024-12-08 14:04:43,227 INFO [2024-09-28T00:00:00] **Welcome to the New Climate Data Store (CDS)!** This new system is in its early days of full operations and still undergoing enhancements and fine tuning. Some disruptions are to be expected. Your \n",
      "[feedback](https://jira.ecmwf.int/plugins/servlet/desk/portal/1/create/202) is key to improve the user experience on the new CDS for the benefit of everyone. Thank you.\n",
      "2024-12-08 14:04:43,229 INFO [2024-09-26T00:00:00] Watch our [Forum](https://forum.ecmwf.int/) for Announcements, news and other discussed topics.\n",
      "2024-12-08 14:04:43,232 INFO [2024-09-16T00:00:00] Remember that you need to have an ECMWF account to use the new CDS. **Your old CDS credentials will not work in new CDS!**\n",
      "2024-12-08 14:04:43,234 WARNING [2024-06-16T00:00:00] CDS API syntax is changed and some keys or parameter names may have also changed. To avoid requests failing, please use the \"Show API request code\" tool on the dataset Download Form to check you are using the correct syntax for your API request.\n",
      "2024-12-08 14:04:44,132 INFO Request ID is a8949c8f-906c-4732-ae89-b63e4a914b31\n",
      "2024-12-08 14:04:44,452 INFO status has been updated to accepted\n",
      "2024-12-08 14:04:55,160 INFO status has been updated to running\n",
      "2024-12-08 14:06:45,016 INFO status has been updated to successful\n"
     ]
    },
    {
     "data": {
      "application/json": {
       "ascii": false,
       "bar_format": null,
       "colour": null,
       "elapsed": 0.011990547180175781,
       "initial": 0,
       "n": 0,
       "ncols": null,
       "nrows": 51,
       "postfix": null,
       "prefix": "dc903a2510021a379aa575402b48523e.zip",
       "rate": null,
       "total": 11799948,
       "unit": "B",
       "unit_divisor": 1024,
       "unit_scale": true
      },
      "application/vnd.jupyter.widget-view+json": {
       "model_id": "18e09ea81d444fa68598f5b13941c897",
       "version_major": 2,
       "version_minor": 0
      },
      "text/plain": [
       "dc903a2510021a379aa575402b48523e.zip:   0%|          | 0.00/11.3M [00:00<?, ?B/s]"
      ]
     },
     "metadata": {},
     "output_type": "display_data"
    },
    {
     "name": "stdout",
     "output_type": "stream",
     "text": [
      "/home/input_data_ERA5/pacific_northwest/hourly/swvl1/pacific_northwest_swvl1_hourly_2023_12.netcdf.zip\n",
      "/home/input_data_ERA5/pacific_northwest/hourly/swvl1/pacific_northwest_swvl1_hourly_2023_12.netcdf.zip does NOT exist... requesting now\n"
     ]
    },
    {
     "name": "stderr",
     "output_type": "stream",
     "text": [
      "2024-12-08 14:06:52,217 INFO [2024-09-28T00:00:00] **Welcome to the New Climate Data Store (CDS)!** This new system is in its early days of full operations and still undergoing enhancements and fine tuning. Some disruptions are to be expected. Your \n",
      "[feedback](https://jira.ecmwf.int/plugins/servlet/desk/portal/1/create/202) is key to improve the user experience on the new CDS for the benefit of everyone. Thank you.\n",
      "2024-12-08 14:06:52,219 INFO [2024-09-26T00:00:00] Watch our [Forum](https://forum.ecmwf.int/) for Announcements, news and other discussed topics.\n",
      "2024-12-08 14:06:52,222 INFO [2024-09-16T00:00:00] Remember that you need to have an ECMWF account to use the new CDS. **Your old CDS credentials will not work in new CDS!**\n",
      "2024-12-08 14:06:52,225 WARNING [2024-06-16T00:00:00] CDS API syntax is changed and some keys or parameter names may have also changed. To avoid requests failing, please use the \"Show API request code\" tool on the dataset Download Form to check you are using the correct syntax for your API request.\n",
      "2024-12-08 14:06:53,716 INFO Request ID is 70481043-978a-4765-a695-7b47dd465a54\n",
      "2024-12-08 14:06:54,124 INFO status has been updated to accepted\n",
      "2024-12-08 14:07:03,867 INFO status has been updated to running\n",
      "2024-12-08 14:09:50,151 INFO status has been updated to successful\n"
     ]
    },
    {
     "data": {
      "application/json": {
       "ascii": false,
       "bar_format": null,
       "colour": null,
       "elapsed": 0.013893604278564453,
       "initial": 0,
       "n": 0,
       "ncols": null,
       "nrows": 51,
       "postfix": null,
       "prefix": "ba4f6428403c56edefad8e79d394ce21.zip",
       "rate": null,
       "total": 13587047,
       "unit": "B",
       "unit_divisor": 1024,
       "unit_scale": true
      },
      "application/vnd.jupyter.widget-view+json": {
       "model_id": "2bf86bef879f45a1bf3428a328389fee",
       "version_major": 2,
       "version_minor": 0
      },
      "text/plain": [
       "ba4f6428403c56edefad8e79d394ce21.zip:   0%|          | 0.00/13.0M [00:00<?, ?B/s]"
      ]
     },
     "metadata": {},
     "output_type": "display_data"
    },
    {
     "name": "stdout",
     "output_type": "stream",
     "text": [
      "2023 done ...\n",
      "single-levels-monthly tmean\n",
      "2m_temperature tmean\n",
      "/home/input_data_ERA5/pacific_northwest/monthly/tmean/pacific_northwest_tmean_monthly_2023.nc\n",
      "/home/input_data_ERA5/pacific_northwest/monthly/tmean/pacific_northwest_tmean_monthly_2023.nc does NOT exist... requesting now\n"
     ]
    },
    {
     "name": "stderr",
     "output_type": "stream",
     "text": [
      "2024-12-08 14:10:27,633 INFO [2024-09-28T00:00:00] **Welcome to the New Climate Data Store (CDS)!** This new system is in its early days of full operations and still undergoing enhancements and fine tuning. Some disruptions are to be expected. Your \n",
      "[feedback](https://jira.ecmwf.int/plugins/servlet/desk/portal/1/create/202) is key to improve the user experience on the new CDS for the benefit of everyone. Thank you.\n",
      "2024-12-08 14:10:27,635 INFO [2024-09-26T00:00:00] Watch our [Forum](https://forum.ecmwf.int/) for Announcements, news and other discussed topics.\n",
      "2024-12-08 14:10:27,638 INFO [2024-09-16T00:00:00] Remember that you need to have an ECMWF account to use the new CDS. **Your old CDS credentials will not work in new CDS!**\n",
      "2024-12-08 14:10:27,640 WARNING [2024-06-16T00:00:00] CDS API syntax is changed and some keys or parameter names may have also changed. To avoid requests failing, please use the \"Show API request code\" tool on the dataset Download Form to check you are using the correct syntax for your API request.\n",
      "2024-12-08 14:10:28,835 WARNING [2024-10-10T00:00:00] The final validated ERA5 differs from ERA5T from July 2024 until further notice - please refer to our\n",
      "[Forum announcement](https://forum.ecmwf.int/t/final-validated-era5-product-to-differ-from-era5t-in-july-2024/6685)\n",
      "for details and watch it for further updates on this.\n",
      "2024-12-08 14:10:28,838 INFO Request ID is a2b62d33-0f71-423c-b6b0-427215ac4292\n",
      "2024-12-08 14:10:29,271 INFO status has been updated to accepted\n",
      "2024-12-08 14:10:37,381 WARNING Structural differences in grib fields detected when opening in xarray. Opening the grib file safely, however this may result in files with non-intuitive filenames.\n",
      "2024-12-08 14:10:37,384 INFO status has been updated to running\n",
      "2024-12-08 14:10:41,249 INFO status has been updated to successful\n"
     ]
    },
    {
     "data": {
      "application/json": {
       "ascii": false,
       "bar_format": null,
       "colour": null,
       "elapsed": 0.011154890060424805,
       "initial": 0,
       "n": 0,
       "ncols": null,
       "nrows": 51,
       "postfix": null,
       "prefix": "67710111c7e606440be495c9829fe5b4.nc",
       "rate": null,
       "total": 16280689,
       "unit": "B",
       "unit_divisor": 1024,
       "unit_scale": true
      },
      "application/vnd.jupyter.widget-view+json": {
       "model_id": "bc1163c56b704b3db7c3b9dc76efee40",
       "version_major": 2,
       "version_minor": 0
      },
      "text/plain": [
       "67710111c7e606440be495c9829fe5b4.nc:   0%|          | 0.00/15.5M [00:00<?, ?B/s]"
      ]
     },
     "metadata": {},
     "output_type": "display_data"
    },
    {
     "name": "stdout",
     "output_type": "stream",
     "text": [
      "2023 done ...\n",
      "LAND\n",
      "2m_temperature t2m\n",
      "2023 done ...\n",
      "pressure-levels z500 500\n",
      "geopotential z500\n",
      "/home/input_data_ERA5/pacific_northwest/hourly/z500/pacific_northwest_z500_hourly_2023.nc\n",
      "/home/input_data_ERA5/pacific_northwest/hourly/z500/pacific_northwest_z500_hourly_2023.nc does NOT exist... requesting now\n"
     ]
    },
    {
     "name": "stderr",
     "output_type": "stream",
     "text": [
      "2024-12-08 14:11:04,807 INFO [2024-09-28T00:00:00] **Welcome to the New Climate Data Store (CDS)!** This new system is in its early days of full operations and still undergoing enhancements and fine tuning. Some disruptions are to be expected. Your \n",
      "[feedback](https://jira.ecmwf.int/plugins/servlet/desk/portal/1/create/202) is key to improve the user experience on the new CDS for the benefit of everyone. Thank you.\n",
      "2024-12-08 14:11:04,810 INFO [2024-09-26T00:00:00] Watch our [Forum](https://forum.ecmwf.int/) for Announcements, news and other discussed topics.\n",
      "2024-12-08 14:11:04,815 INFO [2024-09-16T00:00:00] Remember that you need to have an ECMWF account to use the new CDS. **Your old CDS credentials will not work in new CDS!**\n",
      "2024-12-08 14:11:04,816 WARNING [2024-06-16T00:00:00] CDS API syntax is changed and some keys or parameter names may have also changed. To avoid requests failing, please use the \"Show API request code\" tool on the dataset Download Form to check you are using the correct syntax for your API request.\n",
      "2024-12-08 14:11:07,262 WARNING [2024-10-10T00:00:00] The final validated ERA5 differs from ERA5T from July 2024 until further notice - please refer to our\n",
      "[Forum announcement](https://forum.ecmwf.int/t/final-validated-era5-product-to-differ-from-era5t-in-july-2024/6685)\n",
      "for details and watch it for further updates on this.\n",
      "2024-12-08 14:11:07,265 INFO Request ID is bd1e5e6d-ef59-40e7-957b-d7be0c7b7fca\n",
      "2024-12-08 14:11:07,774 INFO status has been updated to accepted\n",
      "2024-12-08 14:11:15,593 INFO status has been updated to running\n",
      "2024-12-08 14:25:39,517 INFO status has been updated to successful\n"
     ]
    },
    {
     "data": {
      "application/json": {
       "ascii": false,
       "bar_format": null,
       "colour": null,
       "elapsed": 0.011859655380249023,
       "initial": 0,
       "n": 0,
       "ncols": null,
       "nrows": 51,
       "postfix": null,
       "prefix": "49d27d95dca99bf3b5ca29fa59184108.nc",
       "rate": null,
       "total": 30185724,
       "unit": "B",
       "unit_divisor": 1024,
       "unit_scale": true
      },
      "application/vnd.jupyter.widget-view+json": {
       "model_id": "c1efdb98eae547b5be5199660bcda28a",
       "version_major": 2,
       "version_minor": 0
      },
      "text/plain": [
       "49d27d95dca99bf3b5ca29fa59184108.nc:   0%|          | 0.00/28.8M [00:00<?, ?B/s]"
      ]
     },
     "metadata": {},
     "output_type": "display_data"
    },
    {
     "name": "stdout",
     "output_type": "stream",
     "text": [
      "2023 done ...\n",
      "pressure-levels z700 700\n",
      "geopotential z700\n",
      "/home/input_data_ERA5/pacific_northwest/hourly/z700/pacific_northwest_z700_hourly_2023.nc\n",
      "/home/input_data_ERA5/pacific_northwest/hourly/z700/pacific_northwest_z700_hourly_2023.nc does NOT exist... requesting now\n"
     ]
    },
    {
     "name": "stderr",
     "output_type": "stream",
     "text": [
      "2024-12-08 14:26:38,906 INFO [2024-09-28T00:00:00] **Welcome to the New Climate Data Store (CDS)!** This new system is in its early days of full operations and still undergoing enhancements and fine tuning. Some disruptions are to be expected. Your \n",
      "[feedback](https://jira.ecmwf.int/plugins/servlet/desk/portal/1/create/202) is key to improve the user experience on the new CDS for the benefit of everyone. Thank you.\n",
      "2024-12-08 14:26:38,908 INFO [2024-09-26T00:00:00] Watch our [Forum](https://forum.ecmwf.int/) for Announcements, news and other discussed topics.\n",
      "2024-12-08 14:26:38,910 INFO [2024-09-16T00:00:00] Remember that you need to have an ECMWF account to use the new CDS. **Your old CDS credentials will not work in new CDS!**\n",
      "2024-12-08 14:26:38,913 WARNING [2024-06-16T00:00:00] CDS API syntax is changed and some keys or parameter names may have also changed. To avoid requests failing, please use the \"Show API request code\" tool on the dataset Download Form to check you are using the correct syntax for your API request.\n",
      "2024-12-08 14:26:43,718 WARNING [2024-10-10T00:00:00] The final validated ERA5 differs from ERA5T from July 2024 until further notice - please refer to our\n",
      "[Forum announcement](https://forum.ecmwf.int/t/final-validated-era5-product-to-differ-from-era5t-in-july-2024/6685)\n",
      "for details and watch it for further updates on this.\n",
      "2024-12-08 14:26:43,720 INFO Request ID is f71706db-9116-4016-aed6-4d3a6ff0cf5f\n",
      "2024-12-08 14:26:44,126 INFO status has been updated to accepted\n",
      "2024-12-08 14:26:52,474 INFO status has been updated to running\n",
      "2024-12-08 14:43:27,588 INFO status has been updated to successful\n"
     ]
    },
    {
     "data": {
      "application/json": {
       "ascii": false,
       "bar_format": null,
       "colour": null,
       "elapsed": 0.012138843536376953,
       "initial": 0,
       "n": 0,
       "ncols": null,
       "nrows": 51,
       "postfix": null,
       "prefix": "b0171a015395bc27230de76f7a1ee079.nc",
       "rate": null,
       "total": 35712303,
       "unit": "B",
       "unit_divisor": 1024,
       "unit_scale": true
      },
      "application/vnd.jupyter.widget-view+json": {
       "model_id": "574ddd5d44934d97bfeea421afa82326",
       "version_major": 2,
       "version_minor": 0
      },
      "text/plain": [
       "b0171a015395bc27230de76f7a1ee079.nc:   0%|          | 0.00/34.1M [00:00<?, ?B/s]"
      ]
     },
     "metadata": {},
     "output_type": "display_data"
    },
    {
     "name": "stdout",
     "output_type": "stream",
     "text": [
      "2023 done ...\n",
      "pressure-levels z250 250\n",
      "geopotential z250\n",
      "2023 done ...\n",
      "single-levels psl\n",
      "mean_sea_level_pressure psl\n",
      "2023 done ...\n"
     ]
    }
   ],
   "source": [
    "for region_str in region_str_tpl:\n",
    "    print(region_str)\n",
    "\n",
    "    region_input_lat_bbox, region_input_lon_bbox, region_box_x, region_box_y, region_lat, region_lon, region_lon_EW, region_t62_lats, region_t62_lons = load_region.load_region_constants_modules(region_str)\n",
    "    \n",
    "    input_latmin = region_lat.stop \n",
    "    input_latmax = region_lat.start\n",
    "\n",
    "    if isinstance(region_input_lon_bbox, slice): \n",
    "        input_lonmin = region_lon.start\n",
    "        input_lonmax = region_lon.stop \n",
    "    else:\n",
    "        input_lonmin = region_input_lon_bbox[0].start\n",
    "        input_lonmax = region_input_lon_bbox[1].stop\n",
    "\n",
    "    print('lat:', input_latmin, input_latmax)\n",
    "    print('lon:', input_lonmin, input_lonmax)\n",
    "\n",
    "    if input_lonmin > 180:\n",
    "        input_lonmin = input_lonmin-360\n",
    "\n",
    "    if input_lonmax > 180:\n",
    "        input_lonmax = input_lonmax-360\n",
    "\n",
    "    print('lat:', input_latmin, input_latmax)\n",
    "    print('lon:', input_lonmin, input_lonmax)\n",
    "\n",
    "    ######### Define Time/Space Grid ###########\n",
    "    global latmin\n",
    "    latmin = input_latmin\n",
    "    global latmax\n",
    "    latmax = input_latmax\n",
    "    global lonmin\n",
    "    lonmin = input_lonmin\n",
    "    global lonmax\n",
    "    lonmax = input_lonmax\n",
    "\n",
    "    global mons\n",
    "    mons = list(range(1,13))\n",
    "    \n",
    "    global total_days\n",
    "    total_days = list((range(1,32)))\n",
    "\n",
    "    ######### Run Iterating Download Function ###########\n",
    "\n",
    "    for i,var in enumerate(variables):\n",
    "        request_id_dict = {}\n",
    "\n",
    "        global curr_var\n",
    "        curr_var = var\n",
    "\n",
    "        global curr_var_abbrev\n",
    "        curr_var_abbrev = var_abbrev[i]\n",
    "        \n",
    "        global era5_z_pressure_level\n",
    "        \n",
    "        if curr_var == \"geopotential\":\n",
    "            if curr_var_abbrev == \"z700\":\n",
    "                era5_z_pressure_level = \"700\"\n",
    "            elif curr_var_abbrev == \"z500\":\n",
    "                era5_z_pressure_level = \"500\"\n",
    "            elif curr_var_abbrev == \"z250\":\n",
    "                era5_z_pressure_level = \"250\"\n",
    "\n",
    "        if ((curr_var_abbrev == \"z700\") | (curr_var_abbrev == \"z500\")) | (curr_var_abbrev == \"z250\"):\n",
    "            print('pressure-levels', curr_var_abbrev, era5_z_pressure_level)\n",
    "        elif curr_var_abbrev == \"psl\":\n",
    "            print('single-levels', curr_var_abbrev)\n",
    "        elif curr_var_abbrev == \"tmean\":\n",
    "            print('single-levels-monthly', curr_var_abbrev)\n",
    "        elif ((curr_var_abbrev == \"t2m\") | (curr_var_abbrev == \"pr\")) | (curr_var_abbrev == \"swvl1\"):\n",
    "            print('LAND')\n",
    "        else:\n",
    "            print('VAR ABBREV ERROR')\n",
    "\n",
    "        print(curr_var, curr_var_abbrev)\n",
    "        \n",
    "        if curr_var_abbrev == \"tmean\":\n",
    "            timescale=\"monthly\"\n",
    "            yrs = list(range(2023,2024))\n",
    "        else:\n",
    "            timescale=\"hourly\"\n",
    "            yrs = list(range(2023,2024))\n",
    "            \n",
    "        path_out = proj_dir+\"input_data_ERA5/\"+region_str+\"/\"+timescale+\"/\"+curr_var_abbrev+\"/\"\n",
    "            \n",
    "        for yr in yrs:  \n",
    "            f_out = '_'.join([region_str,curr_var_abbrev,timescale,str(yr)+'.nc'])\n",
    "            if not os.path.exists(path_out+f_out):\n",
    "                if ((curr_var_abbrev == \"z700\") | (curr_var_abbrev == \"z500\")) | (curr_var_abbrev == \"z250\"):\n",
    "                    print(path_out+f_out)\n",
    "                    print(path_out+f_out+\" does NOT exist... requesting now\")\n",
    "                    request_id_dict[path_out+f_out] = era5_z_download(dataset = era5_z_dataset, \n",
    "                                                                    product_type = era5_z_product_type,\n",
    "                                                                    pressure_level = era5_z_pressure_level,\n",
    "                                                                    variables = curr_var, \n",
    "                                                                    years = yr, \n",
    "                                                                    months = mons, \n",
    "                                                                    days = total_days, \n",
    "                                                                    latmin = latmin, \n",
    "                                                                    latmax = latmax, \n",
    "                                                                    lonmin = lonmin, \n",
    "                                                                    lonmax = lonmax,\n",
    "                                                                    outname = path_out+f_out)\n",
    "                    \n",
    "                elif curr_var_abbrev == \"psl\":\n",
    "                    print(path_out+f_out)\n",
    "                    print(path_out+f_out+\" does NOT exist... requesting now\")\n",
    "                    request_id_dict[path_out+f_out] = era5_psl_download(dataset = era5_psl_dataset, \n",
    "                                                                    product_type = era5_psl_product_type,\n",
    "                                                                    variables = curr_var, \n",
    "                                                                    years = yr, \n",
    "                                                                    months = mons, \n",
    "                                                                    days = total_days, \n",
    "                                                                    latmin = latmin, \n",
    "                                                                    latmax = latmax, \n",
    "                                                                    lonmin = lonmin, \n",
    "                                                                    lonmax = lonmax,\n",
    "                                                                    outname = path_out+f_out)\n",
    "                elif curr_var_abbrev == \"tmean\":\n",
    "                    print(path_out+f_out)\n",
    "                    print(path_out+f_out+\" does NOT exist... requesting now\")\n",
    "                    request_id_dict[path_out+f_out] = era5_tmean_download(dataset = era5_tmean_dataset, \n",
    "                                                                    product_type = era5_tmean_product_type,\n",
    "                                                                    variables = curr_var, \n",
    "                                                                    years = yr, \n",
    "                                                                    months = mons,\n",
    "                                                                    outname = path_out+f_out)\n",
    "                    \n",
    "                elif ((curr_var_abbrev == \"t2m\") | (curr_var_abbrev == \"pr\")) | (curr_var_abbrev == \"swvl1\"):\n",
    "                    for mon in mons:  \n",
    "                        f_out = '_'.join([region_str,curr_var_abbrev,timescale,str(yr),str(mon).zfill(2)+'.netcdf.zip']) \n",
    "                        if not os.path.exists(path_out+f_out):\n",
    "                            print(path_out+f_out)\n",
    "                            print(path_out+f_out+\" does NOT exist... requesting now\")\n",
    "                            request_id_dict[path_out+f_out] = era5_land_download(dataset = era5_land_dataset, \n",
    "                                                                            variables = curr_var, \n",
    "                                                                            years = yr, \n",
    "                                                                            months = mon,  \n",
    "                                                                            days = total_days, \n",
    "                                                                            latmin = latmin, \n",
    "                                                                            latmax = latmax, \n",
    "                                                                            lonmin = lonmin, \n",
    "                                                                            lonmax = lonmax,\n",
    "                                                                            outname = path_out+f_out)\n",
    "                else:\n",
    "                    print('VAR ABBREV ERROR')\n",
    "\n",
    "            print(str(yr)+' done ...')\n",
    "\n",
    "        # with open(path_out+region_str+'_'+curr_var_abbrev+'_missing.json', 'w') as fp:\n",
    "        #     json.dump(request_id_dict, fp)"
   ]
  },
  {
   "cell_type": "code",
   "execution_count": null,
   "id": "13231f29",
   "metadata": {},
   "outputs": [],
   "source": []
  },
  {
   "cell_type": "code",
   "execution_count": null,
   "id": "bf7380e4-84e5-48e4-bb98-ba2acdc8ef2b",
   "metadata": {},
   "outputs": [],
   "source": []
  }
 ],
 "metadata": {
  "kernelspec": {
   "display_name": "Python 3 (ipykernel)",
   "language": "python",
   "name": "python3"
  },
  "language_info": {
   "codemirror_mode": {
    "name": "ipython",
    "version": 3
   },
   "file_extension": ".py",
   "mimetype": "text/x-python",
   "name": "python",
   "nbconvert_exporter": "python",
   "pygments_lexer": "ipython3",
   "version": "3.9.16"
  }
 },
 "nbformat": 4,
 "nbformat_minor": 5
}
